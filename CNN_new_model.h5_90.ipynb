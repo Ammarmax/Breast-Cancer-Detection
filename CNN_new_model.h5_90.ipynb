{
 "cells": [
  {
   "cell_type": "code",
   "execution_count": 18,
   "metadata": {},
   "outputs": [],
   "source": [
    "import pandas as pd\n",
    "import numpy as np\n",
    "import random\n",
    "import os\n",
    "from os import listdir\n",
    "import cv2\n",
    "import seaborn as sns\n",
    "from keras.layers import Conv2D, MaxPooling2D, Dropout, Flatten, Dense\n",
    "from keras.models import Model\n",
    "from keras.preprocessing import image\n",
    "from keras.preprocessing.image import ImageDataGenerator\n",
    "from keras.models import Sequential\n",
    "from glob import glob\n",
    "import matplotlib.pyplot as plt\n",
    "import tensorflow as tf"
   ]
  },
  {
   "cell_type": "code",
   "execution_count": 2,
   "metadata": {},
   "outputs": [
    {
     "name": "stdout",
     "output_type": "stream",
     "text": [
      "C:/LHL/Final_project/dir\\0\\10253_idx5_x1001_y1001_class0.png\n",
      "C:/LHL/Final_project/dir\\0\\10253_idx5_x1001_y1051_class0.png\n"
     ]
    }
   ],
   "source": [
    "BCa_img = glob('C:/LHL/Final_project/dir/**/*.png', recursive = True)\n",
    "for img in BCa_img[:2]:\n",
    "    print(img)"
   ]
  },
  {
   "cell_type": "code",
   "execution_count": 9,
   "metadata": {},
   "outputs": [],
   "source": [
    "neg_img = []\n",
    "pos_img = []\n",
    "\n",
    "for img in BCa_img :\n",
    "    if img[-5] == '0' :\n",
    "        neg_img.append(img)\n",
    "    \n",
    "    elif img[-5] == '1' :\n",
    "        pos_img.append(img)"
   ]
  },
  {
   "cell_type": "code",
   "execution_count": 11,
   "metadata": {},
   "outputs": [
    {
     "name": "stdout",
     "output_type": "stream",
     "text": [
      "Number of Negative Images: 198738\n",
      "Number of Postive Images: 78786\n",
      "Total Number of Images : 277524\n"
     ]
    }
   ],
   "source": [
    "total_neg = len(neg_img)\n",
    "total_pos = len(pos_img)\n",
    "        \n",
    "total_img_num = total_neg + total_pos\n",
    "        \n",
    "print('Number of Negative Images: {}' .format(total_neg))\n",
    "print('Number of Postive Images: {}' .format(total_pos))\n",
    "print('Total Number of Images : {}' .format(total_img_num))"
   ]
  },
  {
   "cell_type": "code",
   "execution_count": 12,
   "metadata": {},
   "outputs": [],
   "source": [
    "from matplotlib.image import imread\n",
    "import cv2\n",
    "\n",
    "sampel_neg_img = random.sample(neg_img, len(pos_img))\n",
    "sampel_pos_img = random.sample(pos_img, len(pos_img))\n",
    "\n",
    "non_img_arr = []\n",
    "can_img_arr = []\n",
    "\n",
    "for img in sampel_neg_img:\n",
    "        \n",
    "    n_img = cv2.imread(img, cv2.IMREAD_COLOR)\n",
    "    n_img_size = cv2.resize(n_img, (50, 50), interpolation = cv2.INTER_LINEAR)\n",
    "    non_img_arr.append([n_img_size, 0])\n",
    "    \n",
    "for img in sampel_pos_img:\n",
    "    \n",
    "    c_img = cv2.imread(img, cv2.IMREAD_COLOR)\n",
    "    c_img_size = cv2.resize(c_img, (50, 50), interpolation = cv2.INTER_LINEAR)\n",
    "    can_img_arr.append([c_img_size, 1])"
   ]
  },
  {
   "cell_type": "code",
   "execution_count": 13,
   "metadata": {},
   "outputs": [
    {
     "name": "stderr",
     "output_type": "stream",
     "text": [
      "<__array_function__ internals>:5: VisibleDeprecationWarning: Creating an ndarray from ragged nested sequences (which is a list-or-tuple of lists-or-tuples-or ndarrays with different lengths or shapes) is deprecated. If you meant to do this, you must specify 'dtype=object' when creating the ndarray.\n"
     ]
    },
    {
     "name": "stdout",
     "output_type": "stream",
     "text": [
      "X shape : (157572, 50, 50, 3)\n"
     ]
    }
   ],
   "source": [
    "X = []\n",
    "y = []\n",
    "\n",
    "breast_img_arr = np.concatenate((non_img_arr, can_img_arr))\n",
    "random.shuffle(breast_img_arr)\n",
    "\n",
    "for feature, label in breast_img_arr:\n",
    "    X.append(feature)\n",
    "    y.append(label)\n",
    "    \n",
    "X = np.array(X)\n",
    "y = np.array(y)\n",
    "\n",
    "print('X shape : {}' .format(X.shape))"
   ]
  },
  {
   "cell_type": "code",
   "execution_count": 15,
   "metadata": {},
   "outputs": [],
   "source": [
    "from sklearn.model_selection import train_test_split\n",
    "from keras.utils.np_utils import to_categorical\n",
    "\n",
    "X_train, X_predict, y_train, y_true = train_test_split(X, y, test_size = 0.3, random_state = 7)\n",
    "\n",
    "rate = 0.5\n",
    "num = int(X.shape[0] * rate)\n",
    "\n",
    "X_test = X_train[num:]\n",
    "X_train = X_train[:num]\n",
    "\n",
    "y_test = y_train[num:]\n",
    "y_train = y_train[:num]\n",
    "\n",
    "y_train = to_categorical(y_train, 2)\n",
    "y_test = to_categorical(y_test, 2)\n",
    "y_true = to_categorical(y_true, 2)"
   ]
  },
  {
   "cell_type": "code",
   "execution_count": 20,
   "metadata": {},
   "outputs": [
    {
     "name": "stdout",
     "output_type": "stream",
     "text": [
      "Model: \"sequential_2\"\n",
      "_________________________________________________________________\n",
      " Layer (type)                Output Shape              Param #   \n",
      "=================================================================\n",
      " conv2d_4 (Conv2D)           (None, 50, 50, 32)        896       \n",
      "                                                                 \n",
      " max_pooling2d_4 (MaxPooling  (None, 25, 25, 32)       0         \n",
      " 2D)                                                             \n",
      "                                                                 \n",
      " dropout_5 (Dropout)         (None, 25, 25, 32)        0         \n",
      "                                                                 \n",
      " conv2d_5 (Conv2D)           (None, 25, 25, 64)        18496     \n",
      "                                                                 \n",
      " max_pooling2d_5 (MaxPooling  (None, 12, 12, 64)       0         \n",
      " 2D)                                                             \n",
      "                                                                 \n",
      " dropout_6 (Dropout)         (None, 12, 12, 64)        0         \n",
      "                                                                 \n",
      " conv2d_6 (Conv2D)           (None, 12, 12, 128)       73856     \n",
      "                                                                 \n",
      " max_pooling2d_6 (MaxPooling  (None, 6, 6, 128)        0         \n",
      " 2D)                                                             \n",
      "                                                                 \n",
      " dropout_7 (Dropout)         (None, 6, 6, 128)         0         \n",
      "                                                                 \n",
      " flatten_1 (Flatten)         (None, 4608)              0         \n",
      "                                                                 \n",
      " dense_2 (Dense)             (None, 128)               589952    \n",
      "                                                                 \n",
      " dropout_8 (Dropout)         (None, 128)               0         \n",
      "                                                                 \n",
      " dense_3 (Dense)             (None, 2)                 258       \n",
      "                                                                 \n",
      "=================================================================\n",
      "Total params: 683,458\n",
      "Trainable params: 683,458\n",
      "Non-trainable params: 0\n",
      "_________________________________________________________________\n"
     ]
    }
   ],
   "source": [
    "model = Sequential()\n",
    "\n",
    "model.add(Conv2D(32, (3, 3), padding = 'same', activation = 'relu', input_shape = (50, 50, 3)))\n",
    "model.add(MaxPooling2D(2, 2))\n",
    "model.add(Dropout(0.25))\n",
    "\n",
    "model.add(Conv2D(64, (3, 3), padding = 'same', activation = 'relu', input_shape = (50, 50, 3)))\n",
    "model.add(MaxPooling2D(2, 2))\n",
    "model.add(Dropout(0.25))\n",
    "\n",
    "model.add(Conv2D(128, (3, 3), padding = 'same', activation = 'relu', input_shape = (50, 50, 3)))\n",
    "model.add(MaxPooling2D(2, 2))\n",
    "model.add(Dropout(0.25))\n",
    "\n",
    "model.add(Flatten())\n",
    "model.add(Dense(128, activation = 'relu'))\n",
    "\n",
    "model.add(Dropout(0.5))\n",
    "model.add(Dense(2, activation = 'sigmoid'))\n",
    "\n",
    "model.summary()"
   ]
  },
  {
   "cell_type": "code",
   "execution_count": 21,
   "metadata": {},
   "outputs": [],
   "source": [
    "from keras.optimizers import Adam\n",
    "\n",
    "Adam = Adam(learning_rate = 0.0001)\n",
    "model.compile(loss = 'binary_crossentropy', optimizer = Adam, metrics = ['accuracy'])"
   ]
  },
  {
   "cell_type": "code",
   "execution_count": 22,
   "metadata": {},
   "outputs": [
    {
     "name": "stdout",
     "output_type": "stream",
     "text": [
      "Epoch 1/25\n",
      "1576/1576 [==============================] - 27s 12ms/step - loss: 0.7056 - accuracy: 0.8417 - val_loss: 0.4726 - val_accuracy: 0.8482\n",
      "Epoch 2/25\n",
      "1576/1576 [==============================] - 18s 12ms/step - loss: 0.3764 - accuracy: 0.8453 - val_loss: 0.4710 - val_accuracy: 0.8482\n",
      "Epoch 3/25\n",
      "1576/1576 [==============================] - 18s 12ms/step - loss: 0.3522 - accuracy: 0.8454 - val_loss: 0.4001 - val_accuracy: 0.8482\n",
      "Epoch 4/25\n",
      "1576/1576 [==============================] - 18s 12ms/step - loss: 0.3363 - accuracy: 0.8456 - val_loss: 0.3755 - val_accuracy: 0.8567\n",
      "Epoch 5/25\n",
      "1576/1576 [==============================] - 18s 12ms/step - loss: 0.3263 - accuracy: 0.8459 - val_loss: 0.3583 - val_accuracy: 0.8658\n",
      "Epoch 6/25\n",
      "1576/1576 [==============================] - 18s 12ms/step - loss: 0.3162 - accuracy: 0.8478 - val_loss: 0.3708 - val_accuracy: 0.8482\n",
      "Epoch 7/25\n",
      "1576/1576 [==============================] - 19s 12ms/step - loss: 0.3061 - accuracy: 0.8507 - val_loss: 0.3297 - val_accuracy: 0.8610\n",
      "Epoch 8/25\n",
      "1576/1576 [==============================] - 19s 12ms/step - loss: 0.2926 - accuracy: 0.8693 - val_loss: 0.3267 - val_accuracy: 0.8825\n",
      "Epoch 9/25\n",
      "1576/1576 [==============================] - 18s 12ms/step - loss: 0.2856 - accuracy: 0.8762 - val_loss: 0.3485 - val_accuracy: 0.8858\n",
      "Epoch 10/25\n",
      "1576/1576 [==============================] - 18s 12ms/step - loss: 0.2800 - accuracy: 0.8813 - val_loss: 0.3060 - val_accuracy: 0.8897\n",
      "Epoch 11/25\n",
      "1576/1576 [==============================] - 18s 12ms/step - loss: 0.2761 - accuracy: 0.8829 - val_loss: 0.3243 - val_accuracy: 0.8895\n",
      "Epoch 12/25\n",
      "1576/1576 [==============================] - 18s 12ms/step - loss: 0.2714 - accuracy: 0.8852 - val_loss: 0.3025 - val_accuracy: 0.8908\n",
      "Epoch 13/25\n",
      "1576/1576 [==============================] - 18s 12ms/step - loss: 0.2675 - accuracy: 0.8865 - val_loss: 0.3036 - val_accuracy: 0.8924\n",
      "Epoch 14/25\n",
      "1576/1576 [==============================] - 19s 12ms/step - loss: 0.2635 - accuracy: 0.8886 - val_loss: 0.3017 - val_accuracy: 0.8935\n",
      "Epoch 15/25\n",
      "1576/1576 [==============================] - 19s 12ms/step - loss: 0.2609 - accuracy: 0.8897 - val_loss: 0.2822 - val_accuracy: 0.8938\n",
      "Epoch 16/25\n",
      "1576/1576 [==============================] - 18s 12ms/step - loss: 0.2579 - accuracy: 0.8925 - val_loss: 0.2864 - val_accuracy: 0.8941\n",
      "Epoch 17/25\n",
      "1576/1576 [==============================] - 18s 11ms/step - loss: 0.2536 - accuracy: 0.8918 - val_loss: 0.2840 - val_accuracy: 0.8983\n",
      "Epoch 18/25\n",
      "1576/1576 [==============================] - 18s 11ms/step - loss: 0.2522 - accuracy: 0.8942 - val_loss: 0.2826 - val_accuracy: 0.8970\n",
      "Epoch 19/25\n",
      "1576/1576 [==============================] - 18s 11ms/step - loss: 0.2501 - accuracy: 0.8947 - val_loss: 0.2661 - val_accuracy: 0.8998\n",
      "Epoch 20/25\n",
      "1576/1576 [==============================] - 18s 11ms/step - loss: 0.2461 - accuracy: 0.8962 - val_loss: 0.2556 - val_accuracy: 0.8999\n",
      "Epoch 21/25\n",
      "1576/1576 [==============================] - 18s 12ms/step - loss: 0.2445 - accuracy: 0.8970 - val_loss: 0.2624 - val_accuracy: 0.9026\n",
      "Epoch 22/25\n",
      "1576/1576 [==============================] - 18s 11ms/step - loss: 0.2415 - accuracy: 0.8987 - val_loss: 0.2528 - val_accuracy: 0.9034\n",
      "Epoch 23/25\n",
      "1576/1576 [==============================] - 18s 12ms/step - loss: 0.2392 - accuracy: 0.8994 - val_loss: 0.2607 - val_accuracy: 0.9064\n",
      "Epoch 24/25\n",
      "1576/1576 [==============================] - 18s 11ms/step - loss: 0.2379 - accuracy: 0.9014 - val_loss: 0.2454 - val_accuracy: 0.9015\n",
      "Epoch 25/25\n",
      "1576/1576 [==============================] - 18s 11ms/step - loss: 0.2359 - accuracy: 0.9002 - val_loss: 0.2462 - val_accuracy: 0.9029\n"
     ]
    }
   ],
   "source": [
    "history = model.fit(X_train, y_train, validation_data = (X_test, y_test), epochs = 25, batch_size = 50)"
   ]
  },
  {
   "cell_type": "code",
   "execution_count": 23,
   "metadata": {},
   "outputs": [
    {
     "data": {
      "image/png": "[encoded data removed]",
      "text/plain": [
       "<Figure size 432x288 with 1 Axes>"
      ]
     },
     "metadata": {
      "needs_background": "light"
     },
     "output_type": "display_data"
    }
   ],
   "source": [
    "# accuracies\n",
    "plt.plot(history.history['accuracy'])\n",
    "plt.plot(history.history['val_accuracy'])\n",
    "plt.title('Model Accuracy')\n",
    "plt.xlabel('epoch')\n",
    "plt.ylabel('accuracy')\n",
    "plt.legend(['train', 'test'], loc='upper left')\n",
    "plt.show()"
   ]
  },
  {
   "cell_type": "code",
   "execution_count": 24,
   "metadata": {},
   "outputs": [
    {
     "data": {
      "image/png": "[encoded data removed]",
      "text/plain": [
       "<Figure size 432x288 with 1 Axes>"
      ]
     },
     "metadata": {
      "needs_background": "light"
     },
     "output_type": "display_data"
    }
   ],
   "source": [
    "# loss\n",
    "plt.plot(history.history['loss'])\n",
    "plt.plot(history.history['val_loss'])\n",
    "plt.title('Model Loss')\n",
    "plt.xlabel('epoch')\n",
    "plt.ylabel('loss')\n",
    "plt.legend(['train', 'test'], loc='upper left')\n",
    "plt.show()"
   ]
  },
  {
   "cell_type": "code",
   "execution_count": 25,
   "metadata": {},
   "outputs": [
    {
     "name": "stdout",
     "output_type": "stream",
     "text": [
      "985/985 [==============================] - 3s 3ms/step\n"
     ]
    },
    {
     "data": {
      "image/png": "[encoded data removed]",
      "text/plain": [
       "<Figure size 576x576 with 2 Axes>"
      ]
     },
     "metadata": {
      "needs_background": "light"
     },
     "output_type": "display_data"
    }
   ],
   "source": [
    "from sklearn.metrics import confusion_matrix\n",
    "import seaborn as sns\n",
    "\n",
    "Y_pred = model.predict(X_test)\n",
    "Y_pred_classes = np.argmax(Y_pred,axis = 1) \n",
    "Y_true = np.argmax(y_test,axis = 1) \n",
    "\n",
    "confusion_mtx = confusion_matrix(Y_true, Y_pred_classes) \n",
    "\n",
    "f,ax = plt.subplots(figsize=(8, 8))\n",
    "sns.heatmap(confusion_mtx, annot=True, linewidths=0.01,cmap=\"Greens\",linecolor=\"gray\", fmt= '.1f',ax=ax)\n",
    "plt.xlabel(\"Predicted Label\")\n",
    "plt.ylabel(\"True Label\")\n",
    "plt.title(\"Confusion Matrix\")\n",
    "plt.show()"
   ]
  }
 ],
 "metadata": {
  "interpreter": {
   "hash": "1d009d5972847b3242fd446a2a4db291f000ccbac7e2ac07e2259749a6398b37"
  },
  "kernelspec": {
   "display_name": "Python 3.9.12 ('base')",
   "language": "python",
   "name": "python3"
  },
  "language_info": {
   "codemirror_mode": {
    "name": "ipython",
    "version": 3
   },
   "file_extension": ".py",
   "mimetype": "text/x-python",
   "name": "python",
   "nbconvert_exporter": "python",
   "pygments_lexer": "ipython3",
   "version": "3.9.12"
  },
  "orig_nbformat": 4,
  "vscode": {
   "interpreter": {
    "hash": "ad2bdc8ecc057115af97d19610ffacc2b4e99fae6737bb82f5d7fb13d2f2c186"
   }
  }
 },
 "nbformat": 4,
 "nbformat_minor": 2
}
